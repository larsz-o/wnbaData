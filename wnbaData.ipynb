{
 "cells": [
  {
   "cell_type": "code",
   "execution_count": 95,
   "id": "091af866",
   "metadata": {},
   "outputs": [],
   "source": [
    "import pandas as pd\n",
    "from matplotlib import pyplot as plt\n",
    "get_ipython().run_line_magic('matplotlib', 'inline')\n",
    "import numpy as np\n",
    "import seaborn as sns"
   ]
  },
  {
   "cell_type": "code",
   "execution_count": 3,
   "id": "76683d60",
   "metadata": {},
   "outputs": [],
   "source": [
    "df = pd.read_csv(\"./wnba-forecasts/wnba_elo_latest.csv\")"
   ]
  },
  {
   "cell_type": "code",
   "execution_count": 4,
   "id": "5371bac3",
   "metadata": {},
   "outputs": [
    {
     "data": {
      "text/html": [
       "<div>\n",
       "<style scoped>\n",
       "    .dataframe tbody tr th:only-of-type {\n",
       "        vertical-align: middle;\n",
       "    }\n",
       "\n",
       "    .dataframe tbody tr th {\n",
       "        vertical-align: top;\n",
       "    }\n",
       "\n",
       "    .dataframe thead th {\n",
       "        text-align: right;\n",
       "    }\n",
       "</style>\n",
       "<table border=\"1\" class=\"dataframe\">\n",
       "  <thead>\n",
       "    <tr style=\"text-align: right;\">\n",
       "      <th></th>\n",
       "      <th>season</th>\n",
       "      <th>date</th>\n",
       "      <th>playoff</th>\n",
       "      <th>neutral</th>\n",
       "      <th>status</th>\n",
       "      <th>home_team</th>\n",
       "      <th>away_team</th>\n",
       "      <th>home_team_abbr</th>\n",
       "      <th>away_team_abbr</th>\n",
       "      <th>home_team_pregame_rating</th>\n",
       "      <th>away_team_pregame_rating</th>\n",
       "      <th>home_team_winprob</th>\n",
       "      <th>away_team_winprob</th>\n",
       "      <th>home_team_score</th>\n",
       "      <th>away_team_score</th>\n",
       "      <th>home_team_postgame_rating</th>\n",
       "      <th>away_team_postgame_rating</th>\n",
       "      <th>commissioners_cup_final</th>\n",
       "    </tr>\n",
       "  </thead>\n",
       "  <tbody>\n",
       "    <tr>\n",
       "      <th>0</th>\n",
       "      <td>2022</td>\n",
       "      <td>2022-05-06</td>\n",
       "      <td>0</td>\n",
       "      <td>0</td>\n",
       "      <td>post</td>\n",
       "      <td>Washington Mystics</td>\n",
       "      <td>Indiana Fever</td>\n",
       "      <td>WAS</td>\n",
       "      <td>IND</td>\n",
       "      <td>1461.824293</td>\n",
       "      <td>1407.526397</td>\n",
       "      <td>0.684187</td>\n",
       "      <td>0.315813</td>\n",
       "      <td>84</td>\n",
       "      <td>70</td>\n",
       "      <td>1472.094198</td>\n",
       "      <td>1397.256492</td>\n",
       "      <td>0</td>\n",
       "    </tr>\n",
       "    <tr>\n",
       "      <th>1</th>\n",
       "      <td>2022</td>\n",
       "      <td>2022-05-06</td>\n",
       "      <td>0</td>\n",
       "      <td>0</td>\n",
       "      <td>post</td>\n",
       "      <td>Chicago Sky</td>\n",
       "      <td>Los Angeles Sparks</td>\n",
       "      <td>CHI</td>\n",
       "      <td>LAS</td>\n",
       "      <td>1578.402735</td>\n",
       "      <td>1469.113599</td>\n",
       "      <td>0.748313</td>\n",
       "      <td>0.251687</td>\n",
       "      <td>91</td>\n",
       "      <td>98</td>\n",
       "      <td>1557.630026</td>\n",
       "      <td>1489.886308</td>\n",
       "      <td>0</td>\n",
       "    </tr>\n",
       "    <tr>\n",
       "      <th>2</th>\n",
       "      <td>2022</td>\n",
       "      <td>2022-05-06</td>\n",
       "      <td>0</td>\n",
       "      <td>0</td>\n",
       "      <td>post</td>\n",
       "      <td>Phoenix Mercury</td>\n",
       "      <td>Las Vegas Aces</td>\n",
       "      <td>PHO</td>\n",
       "      <td>LVA</td>\n",
       "      <td>1544.273248</td>\n",
       "      <td>1568.656931</td>\n",
       "      <td>0.579362</td>\n",
       "      <td>0.420638</td>\n",
       "      <td>88</td>\n",
       "      <td>106</td>\n",
       "      <td>1518.415657</td>\n",
       "      <td>1594.514522</td>\n",
       "      <td>0</td>\n",
       "    </tr>\n",
       "    <tr>\n",
       "      <th>3</th>\n",
       "      <td>2022</td>\n",
       "      <td>2022-05-06</td>\n",
       "      <td>0</td>\n",
       "      <td>0</td>\n",
       "      <td>post</td>\n",
       "      <td>Seattle Storm</td>\n",
       "      <td>Minnesota Lynx</td>\n",
       "      <td>SEA</td>\n",
       "      <td>MIN</td>\n",
       "      <td>1526.818047</td>\n",
       "      <td>1547.584874</td>\n",
       "      <td>0.584427</td>\n",
       "      <td>0.415573</td>\n",
       "      <td>97</td>\n",
       "      <td>74</td>\n",
       "      <td>1546.891209</td>\n",
       "      <td>1527.511712</td>\n",
       "      <td>0</td>\n",
       "    </tr>\n",
       "    <tr>\n",
       "      <th>4</th>\n",
       "      <td>2022</td>\n",
       "      <td>2022-05-07</td>\n",
       "      <td>0</td>\n",
       "      <td>0</td>\n",
       "      <td>post</td>\n",
       "      <td>New York Liberty</td>\n",
       "      <td>Connecticut Sun</td>\n",
       "      <td>NYL</td>\n",
       "      <td>CON</td>\n",
       "      <td>1428.029521</td>\n",
       "      <td>1583.142022</td>\n",
       "      <td>0.393558</td>\n",
       "      <td>0.606442</td>\n",
       "      <td>81</td>\n",
       "      <td>79</td>\n",
       "      <td>1436.758754</td>\n",
       "      <td>1574.412790</td>\n",
       "      <td>0</td>\n",
       "    </tr>\n",
       "  </tbody>\n",
       "</table>\n",
       "</div>"
      ],
      "text/plain": [
       "   season        date  playoff  neutral status           home_team  \\\n",
       "0    2022  2022-05-06        0        0   post  Washington Mystics   \n",
       "1    2022  2022-05-06        0        0   post         Chicago Sky   \n",
       "2    2022  2022-05-06        0        0   post     Phoenix Mercury   \n",
       "3    2022  2022-05-06        0        0   post       Seattle Storm   \n",
       "4    2022  2022-05-07        0        0   post    New York Liberty   \n",
       "\n",
       "            away_team home_team_abbr away_team_abbr  home_team_pregame_rating  \\\n",
       "0       Indiana Fever            WAS            IND               1461.824293   \n",
       "1  Los Angeles Sparks            CHI            LAS               1578.402735   \n",
       "2      Las Vegas Aces            PHO            LVA               1544.273248   \n",
       "3      Minnesota Lynx            SEA            MIN               1526.818047   \n",
       "4     Connecticut Sun            NYL            CON               1428.029521   \n",
       "\n",
       "   away_team_pregame_rating  home_team_winprob  away_team_winprob  \\\n",
       "0               1407.526397           0.684187           0.315813   \n",
       "1               1469.113599           0.748313           0.251687   \n",
       "2               1568.656931           0.579362           0.420638   \n",
       "3               1547.584874           0.584427           0.415573   \n",
       "4               1583.142022           0.393558           0.606442   \n",
       "\n",
       "   home_team_score  away_team_score  home_team_postgame_rating  \\\n",
       "0               84               70                1472.094198   \n",
       "1               91               98                1557.630026   \n",
       "2               88              106                1518.415657   \n",
       "3               97               74                1546.891209   \n",
       "4               81               79                1436.758754   \n",
       "\n",
       "   away_team_postgame_rating  commissioners_cup_final  \n",
       "0                1397.256492                        0  \n",
       "1                1489.886308                        0  \n",
       "2                1594.514522                        0  \n",
       "3                1527.511712                        0  \n",
       "4                1574.412790                        0  "
      ]
     },
     "execution_count": 4,
     "metadata": {},
     "output_type": "execute_result"
    }
   ],
   "source": [
    "df.head()"
   ]
  },
  {
   "cell_type": "code",
   "execution_count": 13,
   "id": "30c0608d",
   "metadata": {},
   "outputs": [
    {
     "name": "stdout",
     "output_type": "stream",
     "text": [
      "season 1\n",
      "date 97\n",
      "playoff 2\n",
      "neutral 1\n",
      "status 1\n",
      "home_team 12\n",
      "away_team 12\n",
      "home_team_abbr 12\n",
      "away_team_abbr 12\n",
      "home_team_pregame_rating 240\n",
      "away_team_pregame_rating 240\n",
      "home_team_winprob 240\n",
      "away_team_winprob 240\n",
      "home_team_score 51\n",
      "away_team_score 51\n",
      "home_team_postgame_rating 240\n",
      "away_team_postgame_rating 240\n",
      "commissioners_cup_final 2\n"
     ]
    }
   ],
   "source": [
    "for column in df.columns: \n",
    "    print(column, df[column].nunique())"
   ]
  },
  {
   "cell_type": "markdown",
   "id": "8e1f12c8",
   "metadata": {},
   "source": [
    "Using a function, create a new row that tells us if the home team win probability was correct. Run this function using .apply() and a lambda. "
   ]
  },
  {
   "cell_type": "code",
   "execution_count": 224,
   "id": "da90cc1f",
   "metadata": {},
   "outputs": [],
   "source": [
    "def categorise(row):  \n",
    "    if row['home_team_winprob'] > row['away_team_winprob']:\n",
    "        if row['home_team_score'] > row['away_team_score']:\n",
    "            return 'True'\n",
    "    return 'False'"
   ]
  },
  {
   "cell_type": "code",
   "execution_count": 225,
   "id": "882a81f0",
   "metadata": {},
   "outputs": [],
   "source": [
    "df['prediction_true'] = df.apply(lambda row: categorise(row), axis=1)"
   ]
  },
  {
   "cell_type": "markdown",
   "id": "d7f652ce",
   "metadata": {},
   "source": [
    "Get only the columns we want to analyze from the dataframe and assign it to the new dataframe called `filtered`"
   ]
  },
  {
   "cell_type": "code",
   "execution_count": 226,
   "id": "40fd2268",
   "metadata": {},
   "outputs": [],
   "source": [
    "filtered = df[[\"home_team_abbr\", \"home_team_score\", \"home_team_winprob\", \"away_team_abbr\",\"away_team_score\", \"away_team_winprob\", \"prediction_true\",\"date\"]].groupby(\"date\").max()"
   ]
  },
  {
   "cell_type": "markdown",
   "id": "5df65c83",
   "metadata": {},
   "source": [
    "Filter this dataframe further by running a query on `filtered` to get only games where the home team won. Save this to a dataframe called `home_wins`"
   ]
  },
  {
   "cell_type": "code",
   "execution_count": 227,
   "id": "a445f6bd",
   "metadata": {},
   "outputs": [],
   "source": [
    "home_wins = filtered.query('home_team_score > away_team_score')"
   ]
  },
  {
   "cell_type": "code",
   "execution_count": 83,
   "id": "2e740244",
   "metadata": {},
   "outputs": [
    {
     "data": {
      "text/html": [
       "<div>\n",
       "<style scoped>\n",
       "    .dataframe tbody tr th:only-of-type {\n",
       "        vertical-align: middle;\n",
       "    }\n",
       "\n",
       "    .dataframe tbody tr th {\n",
       "        vertical-align: top;\n",
       "    }\n",
       "\n",
       "    .dataframe thead th {\n",
       "        text-align: right;\n",
       "    }\n",
       "</style>\n",
       "<table border=\"1\" class=\"dataframe\">\n",
       "  <thead>\n",
       "    <tr style=\"text-align: right;\">\n",
       "      <th></th>\n",
       "      <th>home_team_abbr</th>\n",
       "      <th>home_team_score</th>\n",
       "      <th>home_team_winprob</th>\n",
       "      <th>away_team_abbr</th>\n",
       "      <th>away_team_score</th>\n",
       "      <th>away_team_winprob</th>\n",
       "      <th>prediction_true</th>\n",
       "    </tr>\n",
       "    <tr>\n",
       "      <th>date</th>\n",
       "      <th></th>\n",
       "      <th></th>\n",
       "      <th></th>\n",
       "      <th></th>\n",
       "      <th></th>\n",
       "      <th></th>\n",
       "      <th></th>\n",
       "    </tr>\n",
       "  </thead>\n",
       "  <tbody>\n",
       "    <tr>\n",
       "      <th>2022-05-07</th>\n",
       "      <td>NYL</td>\n",
       "      <td>81</td>\n",
       "      <td>0.686024</td>\n",
       "      <td>CON</td>\n",
       "      <td>79</td>\n",
       "      <td>0.606442</td>\n",
       "      <td>True</td>\n",
       "    </tr>\n",
       "    <tr>\n",
       "      <th>2022-05-10</th>\n",
       "      <td>WAS</td>\n",
       "      <td>89</td>\n",
       "      <td>0.462026</td>\n",
       "      <td>MIN</td>\n",
       "      <td>76</td>\n",
       "      <td>0.555983</td>\n",
       "      <td>False</td>\n",
       "    </tr>\n",
       "    <tr>\n",
       "      <th>2022-05-11</th>\n",
       "      <td>PHO</td>\n",
       "      <td>97</td>\n",
       "      <td>0.760661</td>\n",
       "      <td>SEA</td>\n",
       "      <td>77</td>\n",
       "      <td>0.487332</td>\n",
       "      <td>True</td>\n",
       "    </tr>\n",
       "    <tr>\n",
       "      <th>2022-05-18</th>\n",
       "      <td>SEA</td>\n",
       "      <td>74</td>\n",
       "      <td>0.510792</td>\n",
       "      <td>CHI</td>\n",
       "      <td>71</td>\n",
       "      <td>0.489208</td>\n",
       "      <td>True</td>\n",
       "    </tr>\n",
       "    <tr>\n",
       "      <th>2022-05-20</th>\n",
       "      <td>SEA</td>\n",
       "      <td>94</td>\n",
       "      <td>0.859067</td>\n",
       "      <td>WAS</td>\n",
       "      <td>85</td>\n",
       "      <td>0.470000</td>\n",
       "      <td>True</td>\n",
       "    </tr>\n",
       "    <tr>\n",
       "      <th>2022-05-21</th>\n",
       "      <td>LVA</td>\n",
       "      <td>100</td>\n",
       "      <td>0.740439</td>\n",
       "      <td>PHO</td>\n",
       "      <td>80</td>\n",
       "      <td>0.388504</td>\n",
       "      <td>True</td>\n",
       "    </tr>\n",
       "    <tr>\n",
       "      <th>2022-05-23</th>\n",
       "      <td>LVA</td>\n",
       "      <td>104</td>\n",
       "      <td>0.796326</td>\n",
       "      <td>LAS</td>\n",
       "      <td>76</td>\n",
       "      <td>0.203674</td>\n",
       "      <td>True</td>\n",
       "    </tr>\n",
       "    <tr>\n",
       "      <th>2022-05-24</th>\n",
       "      <td>WAS</td>\n",
       "      <td>95</td>\n",
       "      <td>0.859538</td>\n",
       "      <td>NYL</td>\n",
       "      <td>90</td>\n",
       "      <td>0.303004</td>\n",
       "      <td>True</td>\n",
       "    </tr>\n",
       "    <tr>\n",
       "      <th>2022-05-25</th>\n",
       "      <td>LAS</td>\n",
       "      <td>99</td>\n",
       "      <td>0.551692</td>\n",
       "      <td>PHO</td>\n",
       "      <td>94</td>\n",
       "      <td>0.448308</td>\n",
       "      <td>True</td>\n",
       "    </tr>\n",
       "    <tr>\n",
       "      <th>2022-05-26</th>\n",
       "      <td>CON</td>\n",
       "      <td>99</td>\n",
       "      <td>0.705881</td>\n",
       "      <td>DAL</td>\n",
       "      <td>68</td>\n",
       "      <td>0.294119</td>\n",
       "      <td>True</td>\n",
       "    </tr>\n",
       "    <tr>\n",
       "      <th>2022-05-27</th>\n",
       "      <td>SEA</td>\n",
       "      <td>101</td>\n",
       "      <td>0.790149</td>\n",
       "      <td>NYL</td>\n",
       "      <td>96</td>\n",
       "      <td>0.555841</td>\n",
       "      <td>True</td>\n",
       "    </tr>\n",
       "    <tr>\n",
       "      <th>2022-05-29</th>\n",
       "      <td>SEA</td>\n",
       "      <td>92</td>\n",
       "      <td>0.798619</td>\n",
       "      <td>PHO</td>\n",
       "      <td>85</td>\n",
       "      <td>0.468341</td>\n",
       "      <td>True</td>\n",
       "    </tr>\n",
       "    <tr>\n",
       "      <th>2022-05-31</th>\n",
       "      <td>LVA</td>\n",
       "      <td>93</td>\n",
       "      <td>0.745030</td>\n",
       "      <td>WAS</td>\n",
       "      <td>91</td>\n",
       "      <td>0.612828</td>\n",
       "      <td>True</td>\n",
       "    </tr>\n",
       "    <tr>\n",
       "      <th>2022-06-01</th>\n",
       "      <td>NYL</td>\n",
       "      <td>87</td>\n",
       "      <td>0.618428</td>\n",
       "      <td>MIN</td>\n",
       "      <td>76</td>\n",
       "      <td>0.391539</td>\n",
       "      <td>True</td>\n",
       "    </tr>\n",
       "    <tr>\n",
       "      <th>2022-06-07</th>\n",
       "      <td>SEA</td>\n",
       "      <td>88</td>\n",
       "      <td>0.649488</td>\n",
       "      <td>MIN</td>\n",
       "      <td>69</td>\n",
       "      <td>0.526681</td>\n",
       "      <td>True</td>\n",
       "    </tr>\n",
       "    <tr>\n",
       "      <th>2022-06-08</th>\n",
       "      <td>WAS</td>\n",
       "      <td>88</td>\n",
       "      <td>0.904870</td>\n",
       "      <td>IND</td>\n",
       "      <td>82</td>\n",
       "      <td>0.514100</td>\n",
       "      <td>True</td>\n",
       "    </tr>\n",
       "    <tr>\n",
       "      <th>2022-06-14</th>\n",
       "      <td>WAS</td>\n",
       "      <td>83</td>\n",
       "      <td>0.640394</td>\n",
       "      <td>SEA</td>\n",
       "      <td>81</td>\n",
       "      <td>0.552766</td>\n",
       "      <td>True</td>\n",
       "    </tr>\n",
       "    <tr>\n",
       "      <th>2022-06-15</th>\n",
       "      <td>IND</td>\n",
       "      <td>105</td>\n",
       "      <td>0.817507</td>\n",
       "      <td>PHO</td>\n",
       "      <td>93</td>\n",
       "      <td>0.606643</td>\n",
       "      <td>True</td>\n",
       "    </tr>\n",
       "    <tr>\n",
       "      <th>2022-06-16</th>\n",
       "      <td>NYL</td>\n",
       "      <td>77</td>\n",
       "      <td>0.443181</td>\n",
       "      <td>WAS</td>\n",
       "      <td>65</td>\n",
       "      <td>0.556819</td>\n",
       "      <td>False</td>\n",
       "    </tr>\n",
       "    <tr>\n",
       "      <th>2022-06-17</th>\n",
       "      <td>DAL</td>\n",
       "      <td>106</td>\n",
       "      <td>0.801020</td>\n",
       "      <td>SEA</td>\n",
       "      <td>100</td>\n",
       "      <td>0.385296</td>\n",
       "      <td>True</td>\n",
       "    </tr>\n",
       "    <tr>\n",
       "      <th>2022-06-19</th>\n",
       "      <td>WAS</td>\n",
       "      <td>96</td>\n",
       "      <td>0.879360</td>\n",
       "      <td>SEA</td>\n",
       "      <td>95</td>\n",
       "      <td>0.779898</td>\n",
       "      <td>True</td>\n",
       "    </tr>\n",
       "    <tr>\n",
       "      <th>2022-06-23</th>\n",
       "      <td>SEA</td>\n",
       "      <td>100</td>\n",
       "      <td>0.812921</td>\n",
       "      <td>WAS</td>\n",
       "      <td>88</td>\n",
       "      <td>0.630383</td>\n",
       "      <td>True</td>\n",
       "    </tr>\n",
       "    <tr>\n",
       "      <th>2022-06-26</th>\n",
       "      <td>CHI</td>\n",
       "      <td>88</td>\n",
       "      <td>0.829605</td>\n",
       "      <td>MIN</td>\n",
       "      <td>85</td>\n",
       "      <td>0.639493</td>\n",
       "      <td>True</td>\n",
       "    </tr>\n",
       "    <tr>\n",
       "      <th>2022-06-27</th>\n",
       "      <td>PHO</td>\n",
       "      <td>83</td>\n",
       "      <td>0.791703</td>\n",
       "      <td>LVA</td>\n",
       "      <td>79</td>\n",
       "      <td>0.643604</td>\n",
       "      <td>True</td>\n",
       "    </tr>\n",
       "    <tr>\n",
       "      <th>2022-06-28</th>\n",
       "      <td>WAS</td>\n",
       "      <td>92</td>\n",
       "      <td>0.735683</td>\n",
       "      <td>DAL</td>\n",
       "      <td>74</td>\n",
       "      <td>0.447378</td>\n",
       "      <td>True</td>\n",
       "    </tr>\n",
       "    <tr>\n",
       "      <th>2022-06-29</th>\n",
       "      <td>SEA</td>\n",
       "      <td>99</td>\n",
       "      <td>0.802362</td>\n",
       "      <td>LVA</td>\n",
       "      <td>83</td>\n",
       "      <td>0.553187</td>\n",
       "      <td>True</td>\n",
       "    </tr>\n",
       "    <tr>\n",
       "      <th>2022-07-02</th>\n",
       "      <td>CHI</td>\n",
       "      <td>91</td>\n",
       "      <td>0.805637</td>\n",
       "      <td>PHO</td>\n",
       "      <td>75</td>\n",
       "      <td>0.194363</td>\n",
       "      <td>True</td>\n",
       "    </tr>\n",
       "    <tr>\n",
       "      <th>2022-07-03</th>\n",
       "      <td>MIN</td>\n",
       "      <td>102</td>\n",
       "      <td>0.719952</td>\n",
       "      <td>WAS</td>\n",
       "      <td>76</td>\n",
       "      <td>0.634950</td>\n",
       "      <td>True</td>\n",
       "    </tr>\n",
       "    <tr>\n",
       "      <th>2022-07-04</th>\n",
       "      <td>LAS</td>\n",
       "      <td>78</td>\n",
       "      <td>0.609816</td>\n",
       "      <td>PHO</td>\n",
       "      <td>75</td>\n",
       "      <td>0.390184</td>\n",
       "      <td>True</td>\n",
       "    </tr>\n",
       "    <tr>\n",
       "      <th>2022-07-12</th>\n",
       "      <td>SEA</td>\n",
       "      <td>118</td>\n",
       "      <td>0.848148</td>\n",
       "      <td>WAS</td>\n",
       "      <td>107</td>\n",
       "      <td>0.553797</td>\n",
       "      <td>True</td>\n",
       "    </tr>\n",
       "  </tbody>\n",
       "</table>\n",
       "</div>"
      ],
      "text/plain": [
       "           home_team_abbr  home_team_score  home_team_winprob away_team_abbr  \\\n",
       "date                                                                           \n",
       "2022-05-07            NYL               81           0.686024            CON   \n",
       "2022-05-10            WAS               89           0.462026            MIN   \n",
       "2022-05-11            PHO               97           0.760661            SEA   \n",
       "2022-05-18            SEA               74           0.510792            CHI   \n",
       "2022-05-20            SEA               94           0.859067            WAS   \n",
       "2022-05-21            LVA              100           0.740439            PHO   \n",
       "2022-05-23            LVA              104           0.796326            LAS   \n",
       "2022-05-24            WAS               95           0.859538            NYL   \n",
       "2022-05-25            LAS               99           0.551692            PHO   \n",
       "2022-05-26            CON               99           0.705881            DAL   \n",
       "2022-05-27            SEA              101           0.790149            NYL   \n",
       "2022-05-29            SEA               92           0.798619            PHO   \n",
       "2022-05-31            LVA               93           0.745030            WAS   \n",
       "2022-06-01            NYL               87           0.618428            MIN   \n",
       "2022-06-07            SEA               88           0.649488            MIN   \n",
       "2022-06-08            WAS               88           0.904870            IND   \n",
       "2022-06-14            WAS               83           0.640394            SEA   \n",
       "2022-06-15            IND              105           0.817507            PHO   \n",
       "2022-06-16            NYL               77           0.443181            WAS   \n",
       "2022-06-17            DAL              106           0.801020            SEA   \n",
       "2022-06-19            WAS               96           0.879360            SEA   \n",
       "2022-06-23            SEA              100           0.812921            WAS   \n",
       "2022-06-26            CHI               88           0.829605            MIN   \n",
       "2022-06-27            PHO               83           0.791703            LVA   \n",
       "2022-06-28            WAS               92           0.735683            DAL   \n",
       "2022-06-29            SEA               99           0.802362            LVA   \n",
       "2022-07-02            CHI               91           0.805637            PHO   \n",
       "2022-07-03            MIN              102           0.719952            WAS   \n",
       "2022-07-04            LAS               78           0.609816            PHO   \n",
       "2022-07-12            SEA              118           0.848148            WAS   \n",
       "\n",
       "            away_team_score  away_team_winprob prediction_true  \n",
       "date                                                            \n",
       "2022-05-07               79           0.606442            True  \n",
       "2022-05-10               76           0.555983           False  \n",
       "2022-05-11               77           0.487332            True  \n",
       "2022-05-18               71           0.489208            True  \n",
       "2022-05-20               85           0.470000            True  \n",
       "2022-05-21               80           0.388504            True  \n",
       "2022-05-23               76           0.203674            True  \n",
       "2022-05-24               90           0.303004            True  \n",
       "2022-05-25               94           0.448308            True  \n",
       "2022-05-26               68           0.294119            True  \n",
       "2022-05-27               96           0.555841            True  \n",
       "2022-05-29               85           0.468341            True  \n",
       "2022-05-31               91           0.612828            True  \n",
       "2022-06-01               76           0.391539            True  \n",
       "2022-06-07               69           0.526681            True  \n",
       "2022-06-08               82           0.514100            True  \n",
       "2022-06-14               81           0.552766            True  \n",
       "2022-06-15               93           0.606643            True  \n",
       "2022-06-16               65           0.556819           False  \n",
       "2022-06-17              100           0.385296            True  \n",
       "2022-06-19               95           0.779898            True  \n",
       "2022-06-23               88           0.630383            True  \n",
       "2022-06-26               85           0.639493            True  \n",
       "2022-06-27               79           0.643604            True  \n",
       "2022-06-28               74           0.447378            True  \n",
       "2022-06-29               83           0.553187            True  \n",
       "2022-07-02               75           0.194363            True  \n",
       "2022-07-03               76           0.634950            True  \n",
       "2022-07-04               75           0.390184            True  \n",
       "2022-07-12              107           0.553797            True  "
      ]
     },
     "execution_count": 83,
     "metadata": {},
     "output_type": "execute_result"
    }
   ],
   "source": [
    "home_wins.head(30)"
   ]
  },
  {
   "cell_type": "markdown",
   "id": "27bc6990",
   "metadata": {},
   "source": [
    "Create a bar plot using Seaborn to show the average home team score within our dataset of home team wins in the WNBA postseason."
   ]
  },
  {
   "cell_type": "code",
   "execution_count": 228,
   "id": "919f7a1b",
   "metadata": {
    "scrolled": true
   },
   "outputs": [
    {
     "data": {
      "text/plain": [
       "<AxesSubplot:xlabel='home_team_abbr', ylabel='home_team_score'>"
      ]
     },
     "execution_count": 228,
     "metadata": {},
     "output_type": "execute_result"
    },
    {
     "data": {
      "image/png": "[encoded data removed]",
      "text/plain": [
       "<Figure size 432x288 with 1 Axes>"
      ]
     },
     "metadata": {},
     "output_type": "display_data"
    }
   ],
   "source": [
    "sns.set_style(\"whitegrid\")\n",
    "sns.barplot(x=\"home_team_abbr\", y=\"home_team_score\", data=home_wins)"
   ]
  },
  {
   "cell_type": "markdown",
   "id": "1ee912c7",
   "metadata": {},
   "source": [
    "Create a bar plot using Seaborn to show the home team win probability within our dataset of home team wins in the WNBA postseason."
   ]
  },
  {
   "cell_type": "code",
   "execution_count": 229,
   "id": "f3284543",
   "metadata": {},
   "outputs": [
    {
     "data": {
      "text/plain": [
       "<AxesSubplot:xlabel='home_team_winprob', ylabel='home_team_abbr'>"
      ]
     },
     "execution_count": 229,
     "metadata": {},
     "output_type": "execute_result"
    },
    {
     "data": {
      "image/png": "[encoded data removed]",
      "text/plain": [
       "<Figure size 432x288 with 1 Axes>"
      ]
     },
     "metadata": {},
     "output_type": "display_data"
    }
   ],
   "source": [
    "sns.set_style(\"whitegrid\")\n",
    "sns.barplot(x=\"home_team_winprob\", y=\"home_team_abbr\", data=home_wins)"
   ]
  },
  {
   "cell_type": "markdown",
   "id": "198ca5f1",
   "metadata": {},
   "source": [
    "Create a distribution plot of home team scores within our dataset using Seaborn."
   ]
  },
  {
   "cell_type": "code",
   "execution_count": 230,
   "id": "8347ad44",
   "metadata": {},
   "outputs": [
    {
     "data": {
      "text/plain": [
       "<seaborn.axisgrid.FacetGrid at 0x7ff4bd7fca30>"
      ]
     },
     "execution_count": 230,
     "metadata": {},
     "output_type": "execute_result"
    },
    {
     "data": {
      "image/png": "[encoded data removed]",
      "text/plain": [
       "<Figure size 360x360 with 1 Axes>"
      ]
     },
     "metadata": {},
     "output_type": "display_data"
    }
   ],
   "source": [
    "sns.displot(home_wins[\"home_team_score\"])"
   ]
  },
  {
   "cell_type": "markdown",
   "id": "45d186ef",
   "metadata": {},
   "source": [
    "Create a scatterplot of home team scores. "
   ]
  },
  {
   "cell_type": "code",
   "execution_count": 231,
   "id": "6ad4d4df",
   "metadata": {},
   "outputs": [
    {
     "data": {
      "text/plain": [
       "<AxesSubplot:xlabel='home_team_abbr', ylabel='home_team_score'>"
      ]
     },
     "execution_count": 231,
     "metadata": {},
     "output_type": "execute_result"
    },
    {
     "data": {
      "image/png": "[encoded data removed]",
      "text/plain": [
       "<Figure size 432x288 with 1 Axes>"
      ]
     },
     "metadata": {},
     "output_type": "display_data"
    }
   ],
   "source": [
    "sns.scatterplot(x=home_wins[\"home_team_abbr\"], y=home_wins[\"home_team_score\"])"
   ]
  },
  {
   "cell_type": "markdown",
   "id": "59838796",
   "metadata": {},
   "source": [
    "Create a chart that plots home team win probability and groups by home team score. "
   ]
  },
  {
   "cell_type": "code",
   "execution_count": 232,
   "id": "3bfed34e",
   "metadata": {},
   "outputs": [
    {
     "data": {
      "text/plain": [
       "<AxesSubplot:xlabel='home_team_abbr', ylabel='home_team_winprob'>"
      ]
     },
     "execution_count": 232,
     "metadata": {},
     "output_type": "execute_result"
    },
    {
     "data": {
      "image/png": "[encoded data removed]",
      "text/plain": [
       "<Figure size 432x288 with 1 Axes>"
      ]
     },
     "metadata": {},
     "output_type": "display_data"
    }
   ],
   "source": [
    "sns.scatterplot(x=home_wins[\"home_team_abbr\"], y=home_wins[\"home_team_winprob\"], hue=home_wins[\"home_team_score\"])"
   ]
  },
  {
   "cell_type": "markdown",
   "id": "417764b8",
   "metadata": {},
   "source": [
    "Plot home team win probability vs. home team score"
   ]
  },
  {
   "cell_type": "code",
   "execution_count": 233,
   "id": "27808663",
   "metadata": {},
   "outputs": [
    {
     "data": {
      "text/plain": [
       "<AxesSubplot:xlabel='home_team_winprob', ylabel='home_team_score'>"
      ]
     },
     "execution_count": 233,
     "metadata": {},
     "output_type": "execute_result"
    },
    {
     "data": {
      "image/png": "[encoded data removed]",
      "text/plain": [
       "<Figure size 432x288 with 1 Axes>"
      ]
     },
     "metadata": {},
     "output_type": "display_data"
    }
   ],
   "source": [
    "sns.scatterplot(data=home_wins, x=\"home_team_winprob\", y=\"home_team_score\")"
   ]
  },
  {
   "cell_type": "markdown",
   "id": "23ede7af",
   "metadata": {},
   "source": [
    "Plot home team win probability vs. home team score, group by home team abbreviation. "
   ]
  },
  {
   "cell_type": "code",
   "execution_count": 234,
   "id": "d166e27f",
   "metadata": {},
   "outputs": [
    {
     "data": {
      "text/plain": [
       "<matplotlib.legend.Legend at 0x7ff4cd1e7100>"
      ]
     },
     "execution_count": 234,
     "metadata": {},
     "output_type": "execute_result"
    },
    {
     "data": {
      "image/png": "[encoded data removed]",
      "text/plain": [
       "<Figure size 432x288 with 1 Axes>"
      ]
     },
     "metadata": {},
     "output_type": "display_data"
    }
   ],
   "source": [
    "g = sns.scatterplot(data=home_wins, x=\"home_team_winprob\", y=\"home_team_score\", hue=\"home_team_abbr\", palette=\"deep\")\n",
    "g.set_xlabel('Home team win probability')\n",
    "g.set_ylabel('Home team score (pts)')\n",
    "g.legend(title=\"Home teams\")"
   ]
  },
  {
   "cell_type": "code",
   "execution_count": 235,
   "id": "e2a3763c",
   "metadata": {},
   "outputs": [
    {
     "data": {
      "text/plain": [
       "<matplotlib.legend.Legend at 0x7ff4cd9f1fa0>"
      ]
     },
     "execution_count": 235,
     "metadata": {},
     "output_type": "execute_result"
    },
    {
     "data": {
      "image/png": "[encoded data removed]",
      "text/plain": [
       "<Figure size 432x288 with 1 Axes>"
      ]
     },
     "metadata": {},
     "output_type": "display_data"
    }
   ],
   "source": [
    "g = sns.scatterplot(data=home_wins, x=\"home_team_winprob\", y=\"home_team_score\", hue=\"home_team_abbr\", palette=\"deep\")\n",
    "g.set_xlabel('Home team win probability')\n",
    "g.set_ylabel('Home team score (pts)')\n",
    "g.legend(title=\"Home teams\")\n"
   ]
  },
  {
   "cell_type": "markdown",
   "id": "c9c6f229",
   "metadata": {},
   "source": [
    "Only check out the teams who went to the finals. "
   ]
  },
  {
   "cell_type": "code",
   "execution_count": 236,
   "id": "992d2fe0",
   "metadata": {},
   "outputs": [
    {
     "data": {
      "text/html": [
       "<div>\n",
       "<style scoped>\n",
       "    .dataframe tbody tr th:only-of-type {\n",
       "        vertical-align: middle;\n",
       "    }\n",
       "\n",
       "    .dataframe tbody tr th {\n",
       "        vertical-align: top;\n",
       "    }\n",
       "\n",
       "    .dataframe thead th {\n",
       "        text-align: right;\n",
       "    }\n",
       "</style>\n",
       "<table border=\"1\" class=\"dataframe\">\n",
       "  <thead>\n",
       "    <tr style=\"text-align: right;\">\n",
       "      <th></th>\n",
       "      <th>season</th>\n",
       "      <th>date</th>\n",
       "      <th>playoff</th>\n",
       "      <th>neutral</th>\n",
       "      <th>status</th>\n",
       "      <th>home_team</th>\n",
       "      <th>away_team</th>\n",
       "      <th>home_team_abbr</th>\n",
       "      <th>away_team_abbr</th>\n",
       "      <th>home_team_pregame_rating</th>\n",
       "      <th>away_team_pregame_rating</th>\n",
       "      <th>home_team_winprob</th>\n",
       "      <th>away_team_winprob</th>\n",
       "      <th>home_team_score</th>\n",
       "      <th>away_team_score</th>\n",
       "      <th>home_team_postgame_rating</th>\n",
       "      <th>away_team_postgame_rating</th>\n",
       "      <th>commissioners_cup_final</th>\n",
       "      <th>prediction_true</th>\n",
       "    </tr>\n",
       "  </thead>\n",
       "  <tbody>\n",
       "    <tr>\n",
       "      <th>53</th>\n",
       "      <td>2022</td>\n",
       "      <td>2022-05-31</td>\n",
       "      <td>0</td>\n",
       "      <td>0</td>\n",
       "      <td>post</td>\n",
       "      <td>Las Vegas Aces</td>\n",
       "      <td>Connecticut Sun</td>\n",
       "      <td>LVA</td>\n",
       "      <td>CON</td>\n",
       "      <td>1651.511999</td>\n",
       "      <td>1618.107162</td>\n",
       "      <td>0.657644</td>\n",
       "      <td>0.342356</td>\n",
       "      <td>89</td>\n",
       "      <td>81</td>\n",
       "      <td>1659.491479</td>\n",
       "      <td>1610.127683</td>\n",
       "      <td>0</td>\n",
       "      <td>True</td>\n",
       "    </tr>\n",
       "    <tr>\n",
       "      <th>57</th>\n",
       "      <td>2022</td>\n",
       "      <td>2022-06-02</td>\n",
       "      <td>0</td>\n",
       "      <td>0</td>\n",
       "      <td>post</td>\n",
       "      <td>Las Vegas Aces</td>\n",
       "      <td>Connecticut Sun</td>\n",
       "      <td>LVA</td>\n",
       "      <td>CON</td>\n",
       "      <td>1659.491479</td>\n",
       "      <td>1610.127683</td>\n",
       "      <td>0.678018</td>\n",
       "      <td>0.321982</td>\n",
       "      <td>90</td>\n",
       "      <td>97</td>\n",
       "      <td>1641.676582</td>\n",
       "      <td>1627.942579</td>\n",
       "      <td>0</td>\n",
       "      <td>False</td>\n",
       "    </tr>\n",
       "    <tr>\n",
       "      <th>149</th>\n",
       "      <td>2022</td>\n",
       "      <td>2022-07-17</td>\n",
       "      <td>0</td>\n",
       "      <td>0</td>\n",
       "      <td>post</td>\n",
       "      <td>Connecticut Sun</td>\n",
       "      <td>Las Vegas Aces</td>\n",
       "      <td>CON</td>\n",
       "      <td>LVA</td>\n",
       "      <td>1618.052994</td>\n",
       "      <td>1602.224988</td>\n",
       "      <td>0.634514</td>\n",
       "      <td>0.365486</td>\n",
       "      <td>83</td>\n",
       "      <td>91</td>\n",
       "      <td>1600.583053</td>\n",
       "      <td>1619.694929</td>\n",
       "      <td>0</td>\n",
       "      <td>False</td>\n",
       "    </tr>\n",
       "    <tr>\n",
       "      <th>236</th>\n",
       "      <td>2022</td>\n",
       "      <td>2022-09-11</td>\n",
       "      <td>1</td>\n",
       "      <td>0</td>\n",
       "      <td>post</td>\n",
       "      <td>Las Vegas Aces</td>\n",
       "      <td>Connecticut Sun</td>\n",
       "      <td>LVA</td>\n",
       "      <td>CON</td>\n",
       "      <td>1679.682478</td>\n",
       "      <td>1674.863657</td>\n",
       "      <td>0.648014</td>\n",
       "      <td>0.351986</td>\n",
       "      <td>67</td>\n",
       "      <td>64</td>\n",
       "      <td>1684.761569</td>\n",
       "      <td>1669.784565</td>\n",
       "      <td>0</td>\n",
       "      <td>True</td>\n",
       "    </tr>\n",
       "    <tr>\n",
       "      <th>237</th>\n",
       "      <td>2022</td>\n",
       "      <td>2022-09-13</td>\n",
       "      <td>1</td>\n",
       "      <td>0</td>\n",
       "      <td>post</td>\n",
       "      <td>Las Vegas Aces</td>\n",
       "      <td>Connecticut Sun</td>\n",
       "      <td>LVA</td>\n",
       "      <td>CON</td>\n",
       "      <td>1684.761569</td>\n",
       "      <td>1669.784565</td>\n",
       "      <td>0.664500</td>\n",
       "      <td>0.335500</td>\n",
       "      <td>85</td>\n",
       "      <td>71</td>\n",
       "      <td>1695.795823</td>\n",
       "      <td>1658.750311</td>\n",
       "      <td>0</td>\n",
       "      <td>True</td>\n",
       "    </tr>\n",
       "    <tr>\n",
       "      <th>238</th>\n",
       "      <td>2022</td>\n",
       "      <td>2022-09-15</td>\n",
       "      <td>1</td>\n",
       "      <td>0</td>\n",
       "      <td>post</td>\n",
       "      <td>Connecticut Sun</td>\n",
       "      <td>Las Vegas Aces</td>\n",
       "      <td>CON</td>\n",
       "      <td>LVA</td>\n",
       "      <td>1658.750311</td>\n",
       "      <td>1695.795823</td>\n",
       "      <td>0.576661</td>\n",
       "      <td>0.423339</td>\n",
       "      <td>105</td>\n",
       "      <td>76</td>\n",
       "      <td>1682.996272</td>\n",
       "      <td>1671.549863</td>\n",
       "      <td>0</td>\n",
       "      <td>True</td>\n",
       "    </tr>\n",
       "    <tr>\n",
       "      <th>239</th>\n",
       "      <td>2022</td>\n",
       "      <td>2022-09-18</td>\n",
       "      <td>1</td>\n",
       "      <td>0</td>\n",
       "      <td>post</td>\n",
       "      <td>Connecticut Sun</td>\n",
       "      <td>Las Vegas Aces</td>\n",
       "      <td>CON</td>\n",
       "      <td>LVA</td>\n",
       "      <td>1682.996272</td>\n",
       "      <td>1671.549863</td>\n",
       "      <td>0.658813</td>\n",
       "      <td>0.341187</td>\n",
       "      <td>71</td>\n",
       "      <td>78</td>\n",
       "      <td>1665.915460</td>\n",
       "      <td>1688.630674</td>\n",
       "      <td>0</td>\n",
       "      <td>False</td>\n",
       "    </tr>\n",
       "  </tbody>\n",
       "</table>\n",
       "</div>"
      ],
      "text/plain": [
       "     season        date  playoff  neutral status        home_team  \\\n",
       "53     2022  2022-05-31        0        0   post   Las Vegas Aces   \n",
       "57     2022  2022-06-02        0        0   post   Las Vegas Aces   \n",
       "149    2022  2022-07-17        0        0   post  Connecticut Sun   \n",
       "236    2022  2022-09-11        1        0   post   Las Vegas Aces   \n",
       "237    2022  2022-09-13        1        0   post   Las Vegas Aces   \n",
       "238    2022  2022-09-15        1        0   post  Connecticut Sun   \n",
       "239    2022  2022-09-18        1        0   post  Connecticut Sun   \n",
       "\n",
       "           away_team home_team_abbr away_team_abbr  home_team_pregame_rating  \\\n",
       "53   Connecticut Sun            LVA            CON               1651.511999   \n",
       "57   Connecticut Sun            LVA            CON               1659.491479   \n",
       "149   Las Vegas Aces            CON            LVA               1618.052994   \n",
       "236  Connecticut Sun            LVA            CON               1679.682478   \n",
       "237  Connecticut Sun            LVA            CON               1684.761569   \n",
       "238   Las Vegas Aces            CON            LVA               1658.750311   \n",
       "239   Las Vegas Aces            CON            LVA               1682.996272   \n",
       "\n",
       "     away_team_pregame_rating  home_team_winprob  away_team_winprob  \\\n",
       "53                1618.107162           0.657644           0.342356   \n",
       "57                1610.127683           0.678018           0.321982   \n",
       "149               1602.224988           0.634514           0.365486   \n",
       "236               1674.863657           0.648014           0.351986   \n",
       "237               1669.784565           0.664500           0.335500   \n",
       "238               1695.795823           0.576661           0.423339   \n",
       "239               1671.549863           0.658813           0.341187   \n",
       "\n",
       "     home_team_score  away_team_score  home_team_postgame_rating  \\\n",
       "53                89               81                1659.491479   \n",
       "57                90               97                1641.676582   \n",
       "149               83               91                1600.583053   \n",
       "236               67               64                1684.761569   \n",
       "237               85               71                1695.795823   \n",
       "238              105               76                1682.996272   \n",
       "239               71               78                1665.915460   \n",
       "\n",
       "     away_team_postgame_rating  commissioners_cup_final prediction_true  \n",
       "53                 1610.127683                        0            True  \n",
       "57                 1627.942579                        0           False  \n",
       "149                1619.694929                        0           False  \n",
       "236                1669.784565                        0            True  \n",
       "237                1658.750311                        0            True  \n",
       "238                1671.549863                        0            True  \n",
       "239                1688.630674                        0           False  "
      ]
     },
     "execution_count": 236,
     "metadata": {},
     "output_type": "execute_result"
    }
   ],
   "source": [
    "finals = df.query(\"home_team_abbr=='CON' & away_team_abbr=='LVA' | home_team_abbr=='LVA' & away_team_abbr=='CON'\")\n",
    "finals"
   ]
  },
  {
   "cell_type": "code",
   "execution_count": 259,
   "id": "c884a6eb",
   "metadata": {},
   "outputs": [
    {
     "data": {
      "text/plain": [
       "Text(0, 0.5, 'Home team post-game rating')"
      ]
     },
     "execution_count": 259,
     "metadata": {},
     "output_type": "execute_result"
    },
    {
     "data": {
      "image/png": "[encoded data removed]",
      "text/plain": [
       "<Figure size 432x288 with 1 Axes>"
      ]
     },
     "metadata": {},
     "output_type": "display_data"
    }
   ],
   "source": [
    "correctGuess = sns.scatterplot(data=finals, x=\"home_team_score\", y=\"home_team_postgame_rating\", hue=\"home_team_abbr\")\n",
    "correctGuess.legend(title=\"Home team\")\n",
    "correctGuess.set_xlabel('Home team score')\n",
    "correctGuess.set_ylabel('Home team post-game rating')"
   ]
  },
  {
   "cell_type": "code",
   "execution_count": null,
   "id": "8e209c2a",
   "metadata": {},
   "outputs": [],
   "source": []
  }
 ],
 "metadata": {
  "kernelspec": {
   "display_name": "Python 3 (ipykernel)",
   "language": "python",
   "name": "python3"
  },
  "language_info": {
   "codemirror_mode": {
    "name": "ipython",
    "version": 3
   },
   "file_extension": ".py",
   "mimetype": "text/x-python",
   "name": "python",
   "nbconvert_exporter": "python",
   "pygments_lexer": "ipython3",
   "version": "3.9.12"
  }
 },
 "nbformat": 4,
 "nbformat_minor": 5
}
